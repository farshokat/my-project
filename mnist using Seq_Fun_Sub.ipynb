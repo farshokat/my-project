{
 "metadata": {
  "language_info": {
   "codemirror_mode": {
    "name": "ipython",
    "version": 3
   },
   "file_extension": ".py",
   "mimetype": "text/x-python",
   "name": "python",
   "nbconvert_exporter": "python",
   "pygments_lexer": "ipython3",
   "version": "3.8.5"
  },
  "orig_nbformat": 2,
  "kernelspec": {
   "name": "python385jvsc74a57bd0183bbf6827d058c2a2fb0f4acdc0420849dda2b4380af0e437e38c64d798d8b7",
   "display_name": "Python 3.8.5 64-bit ('base': conda)"
  }
 },
 "nbformat": 4,
 "nbformat_minor": 2,
 "cells": [
  {
   "cell_type": "code",
   "execution_count": 23,
   "metadata": {},
   "outputs": [],
   "source": [
    "import tensorflow as tf\n",
    "from tensorflow import keras\n",
    "from tensorflow.keras import layers\n",
    "import numpy as np\n",
    "import matplotlib.pyplot as plt\n"
   ]
  },
  {
   "cell_type": "code",
   "execution_count": 20,
   "metadata": {},
   "outputs": [],
   "source": [
    "import tensorflow as tf \n",
    "\n",
    "seq_model = tf.keras.Sequential()\n",
    "seq_model.add(tf.keras.Input(shape=(28, 28, 3))) \n",
    "\n",
    "seq_model.add(tf.keras.layers.Conv2D(32, 3, strides=2, activation=\"relu\"))\n",
    "seq_model.add(tf.keras.layers.MaxPooling2D(3))\n",
    "seq_model.add(tf.keras.layers.BatchNormalization())\n",
    "\n",
    "seq_model.add(tf.keras.layers.Conv2D(64, 3, activation=\"relu\"))\n",
    "seq_model.add(tf.keras.layers.BatchNormalization())\n",
    "seq_model.add(tf.keras.layers.Dropout(0.3))\n",
    "\n",
    "# Now that we have 4x4 feature maps, time to apply global max pooling.\n",
    "seq_model.add(tf.keras.layers.GlobalMaxPooling2D())\n",
    "\n",
    "# Finally, we add a classification layer.\n",
    "seq_model.add(tf.keras.layers.Dense(10))"
   ]
  },
  {
   "cell_type": "code",
   "execution_count": 21,
   "metadata": {},
   "outputs": [],
   "source": [
    "input = tf.keras.Input(shape=(28, 28, 3))\n",
    "x = tf.keras.layers.Conv2D(32, 3, strides=2, activation=\"relu\")(input)\n",
    "x = tf.keras.layers.MaxPooling2D(3)(x)\n",
    "x = tf.keras.layers.BatchNormalization()(x)\n",
    "\n",
    "x = tf.keras.layers.Conv2D(64, 3, activation=\"relu\")(x)\n",
    "x = tf.keras.layers.BatchNormalization()(x)\n",
    "x = tf.keras.layers.Dropout(0.3)(x)\n",
    "gap = tf.keras.layers.GlobalMaxPooling2D()(x)\n",
    "output = tf.keras.layers.Dense(10)(gap)\n",
    "\n",
    "func_model = tf.keras.Model(input, output)"
   ]
  },
  {
   "cell_type": "code",
   "execution_count": 22,
   "metadata": {},
   "outputs": [],
   "source": [
    "class ModelSubClassing(tf.keras.Model):\n",
    "    def __init__(self, num_classes):\n",
    "        super(ModelSubClassing, self).__init__()\n",
    "        # define all layers in init\n",
    "        self.conv1 = tf.keras.layers.Conv2D(32, 3, strides=2, activation=\"relu\")\n",
    "        self.max1  = tf.keras.layers.MaxPooling2D(3)\n",
    "        self.bn1   = tf.keras.layers.BatchNormalization()\n",
    "\n",
    "        self.conv2 = tf.keras.layers.Conv2D(64, 3, activation=\"relu\")\n",
    "        self.bn2   = tf.keras.layers.BatchNormalization()\n",
    "        self.drop  = tf.keras.layers.Dropout(0.3)\n",
    "\n",
    "        self.gap   = tf.keras.layers.GlobalAveragePooling2D()\n",
    "        self.dense = tf.keras.layers.Dense(num_classes)\n",
    "\n",
    "    def call(self, input_tensor, training=False):\n",
    "        x = self.conv1(input_tensor)\n",
    "        x = self.max1(x)\n",
    "        x = self.bn1(x)\n",
    "        x = self.conv2(x)\n",
    "        x = self.bn2(x)\n",
    "        x = self.drop(x)\n",
    "        x = self.gap(x)\n",
    "        return self.dense(x)\n",
    "\n",
    "    def build_graph(self):\n",
    "        x = tf.keras.layers.Input(shape=(28,28,3))\n",
    "        return tf.keras.Model(inputs=[x], outputs=self.call(x))"
   ]
  },
  {
   "cell_type": "code",
   "execution_count": 24,
   "metadata": {},
   "outputs": [
    {
     "output_type": "stream",
     "name": "stdout",
     "text": [
      "(60000, 28, 28) (60000,)\n(10000, 28, 28) (10000,)\n"
     ]
    }
   ],
   "source": [
    "import numpy as np\n",
    "\n",
    "(x_train, y_train), (x_test, y_test) = tf.keras.datasets.mnist.load_data()\n",
    "\n",
    "print(x_train.shape, y_train.shape)\n",
    "print(x_test.shape, y_test.shape)\n"
   ]
  },
  {
   "cell_type": "code",
   "execution_count": 25,
   "metadata": {},
   "outputs": [],
   "source": [
    "# train set / data \n",
    "x_train = np.expand_dims(x_train, axis=-1)\n",
    "x_train = np.repeat(x_train, 3, axis=-1)\n",
    "x_train = x_train.astype('float32') / 255\n",
    "# train set / target \n",
    "y_train = tf.keras.utils.to_categorical(y_train, num_classes=10)"
   ]
  },
  {
   "cell_type": "code",
   "execution_count": 26,
   "metadata": {},
   "outputs": [],
   "source": [
    "# validation set / data \n",
    "x_test = np.expand_dims(x_test, axis=-1)\n",
    "x_test = np.repeat(x_test, 3, axis=-1)\n",
    "x_test = x_test.astype('float32') / 255\n",
    "# validation set / target \n",
    "y_test = tf.keras.utils.to_categorical(y_test, num_classes=10)\n"
   ]
  },
  {
   "cell_type": "code",
   "execution_count": 27,
   "metadata": {},
   "outputs": [
    {
     "output_type": "stream",
     "name": "stdout",
     "text": [
      "Sequential API\n",
      "469/469 [==============================] - 110s 234ms/step - loss: 7.2670 - categorical_accuracy: 0.2156\n"
     ]
    },
    {
     "output_type": "execute_result",
     "data": {
      "text/plain": [
       "<tensorflow.python.keras.callbacks.History at 0x1b234c75b50>"
      ]
     },
     "metadata": {},
     "execution_count": 27
    }
   ],
   "source": [
    "# compile \n",
    "print('Sequential API')\n",
    "seq_model.compile(loss = tf.keras.losses.CategoricalCrossentropy(),\n",
    "              metrics = tf.keras.metrics.CategoricalAccuracy(),\n",
    "              optimizer = tf.keras.optimizers.Adam())\n",
    "# fit \n",
    "seq_model.fit(x_train, y_train,\n",
    "         batch_size=128, epochs=1)\n"
   ]
  },
  {
   "cell_type": "code",
   "execution_count": 28,
   "metadata": {},
   "outputs": [
    {
     "output_type": "stream",
     "name": "stdout",
     "text": [
      "\n",
      "Functional API\n",
      "469/469 [==============================] - 118s 252ms/step - loss: 7.6111 - categorical_accuracy: 0.1687\n"
     ]
    },
    {
     "output_type": "execute_result",
     "data": {
      "text/plain": [
       "<tensorflow.python.keras.callbacks.History at 0x1b233ad1cd0>"
      ]
     },
     "metadata": {},
     "execution_count": 28
    }
   ],
   "source": [
    "# compile \n",
    "print('\\nFunctional API')\n",
    "func_model.compile(loss = tf.keras.losses.CategoricalCrossentropy(),\n",
    "              metrics = tf.keras.metrics.CategoricalAccuracy(),\n",
    "              optimizer = tf.keras.optimizers.Adam())\n",
    "# fit \n",
    "func_model.fit(x_train, y_train,\n",
    "         batch_size=128, epochs=1)"
   ]
  },
  {
   "cell_type": "code",
   "execution_count": 29,
   "metadata": {},
   "outputs": [
    {
     "output_type": "stream",
     "name": "stdout",
     "text": [
      "\n",
      "Model Sub-Classing API\n",
      "469/469 [==============================] - 108s 230ms/step - loss: 7.1498 - categorical_accuracy: 0.1476\n"
     ]
    }
   ],
   "source": [
    "# compile \n",
    "print('\\nModel Sub-Classing API')\n",
    "sub_classing_model = ModelSubClassing(10)\n",
    "sub_classing_model.compile(loss = tf.keras.losses.CategoricalCrossentropy(),\n",
    "              metrics = tf.keras.metrics.CategoricalAccuracy(),\n",
    "              optimizer = tf.keras.optimizers.Adam())\n",
    "# fit \n",
    "sub_classing_model.fit(x_train, y_train,\n",
    "         batch_size=128, epochs=1);"
   ]
  },
  {
   "cell_type": "code",
   "execution_count": null,
   "metadata": {},
   "outputs": [],
   "source": []
  }
 ]
}